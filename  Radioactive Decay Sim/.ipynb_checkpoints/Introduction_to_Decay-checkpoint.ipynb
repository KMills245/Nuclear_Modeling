{
 "cells": [
  {
   "cell_type": "code",
   "execution_count": null,
   "id": "ed4a460f-570a-447f-9fe6-ba27bf1d6557",
   "metadata": {},
   "outputs": [],
   "source": []
  }
 ],
 "metadata": {
  "kernelspec": {
   "display_name": "",
   "name": ""
  },
  "language_info": {
   "name": ""
  }
 },
 "nbformat": 4,
 "nbformat_minor": 5
}
