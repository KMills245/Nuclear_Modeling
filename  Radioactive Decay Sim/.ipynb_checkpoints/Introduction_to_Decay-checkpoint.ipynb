{
 "cells": [
  {
   "cell_type": "markdown",
   "id": "e87032dd-501d-449a-b24b-058a8c26055f",
   "metadata": {},
   "source": [
    "# Radioactive Decay Simulations "
   ]
  },
  {
   "cell_type": "markdown",
   "id": "2e0fbbca-fbfd-4f4e-a272-322f5f0037d7",
   "metadata": {},
   "source": [
    "## Table of Contents<br/> \n",
    "[Introduction](#intro)<br/> \n",
    "[Implementing Concepts](#imp)<br/> \n",
    "[Multiple Isotopes](#chain)<br/> \n",
    "[Discussion](#discussion)<br/> \n",
    "[References](#ref)<br/> "
   ]
  },
  {
   "cell_type": "code",
   "execution_count": null,
   "id": "f7cba7b4-f0a3-4d00-b728-e3ab2c93a5b3",
   "metadata": {},
   "outputs": [],
   "source": []
  }
 ],
 "metadata": {
  "kernelspec": {
   "display_name": "",
   "name": ""
  },
  "language_info": {
   "name": ""
  }
 },
 "nbformat": 4,
 "nbformat_minor": 5
}
