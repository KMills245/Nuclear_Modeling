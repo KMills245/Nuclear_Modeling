{
 "cells": [
  {
   "cell_type": "code",
   "execution_count": null,
   "id": "9f6405a1-e595-42a4-991a-702b10f06499",
   "metadata": {},
   "outputs": [],
   "source": []
  }
 ],
 "metadata": {
  "kernelspec": {
   "display_name": "",
   "name": ""
  },
  "language_info": {
   "name": ""
  }
 },
 "nbformat": 4,
 "nbformat_minor": 5
}
